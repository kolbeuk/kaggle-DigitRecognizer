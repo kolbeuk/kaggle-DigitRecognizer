{
 "cells": [
  {
   "cell_type": "code",
   "execution_count": 55,
   "metadata": {},
   "outputs": [],
   "source": [
    "%matplotlib inline\n",
    "%config IPCompleter.greedy=True\n",
    "\n",
    "import numpy as np\n",
    "import pandas as pd\n",
    "\n",
    "import matplotlib.pyplot as plt\n",
    "import seaborn as sns\n",
    "\n",
    "import sklearn\n",
    "from sklearn.model_selection import train_test_split\n",
    "from sklearn.metrics import confusion_matrix\n",
    "\n",
    "import tensorflow as tf\n",
    "import tensorflow_hub as hub\n",
    "from tensorflow import keras\n",
    "from tensorflow.keras import datasets, layers, models\n",
    "from tensorflow.keras.models import Sequential\n",
    "from tensorflow.keras.layers import Dense, Dropout, Flatten, Conv2D, MaxPooling2D\n",
    "from tensorflow.keras.optimizers import Adam\n",
    "\n",
    "from keras.utils.np_utils import to_categorical\n",
    "from keras.preprocessing.image import ImageDataGenerator\n",
    "\n",
    "import warnings\n",
    "warnings.filterwarnings('ignore')"
   ]
  },
  {
   "cell_type": "code",
   "execution_count": 2,
   "metadata": {},
   "outputs": [],
   "source": [
    "# Each image is 28 pixels in height and 28 pixels in width\n",
    "# total of 784 pixels"
   ]
  },
  {
   "cell_type": "code",
   "execution_count": 3,
   "metadata": {},
   "outputs": [],
   "source": [
    "test = pd.read_csv(\"../../data/digitrecognizer/test.csv\")\n",
    "train = pd.read_csv(\"../../data/digitrecognizer/train.csv\")"
   ]
  },
  {
   "cell_type": "code",
   "execution_count": 4,
   "metadata": {},
   "outputs": [
    {
     "name": "stdout",
     "output_type": "stream",
     "text": [
      "<class 'pandas.core.frame.DataFrame'>\n",
      "RangeIndex: 42000 entries, 0 to 41999\n",
      "Columns: 785 entries, label to pixel783\n",
      "dtypes: int64(785)\n",
      "memory usage: 251.5 MB\n",
      "<class 'pandas.core.frame.DataFrame'>\n",
      "RangeIndex: 28000 entries, 0 to 27999\n",
      "Columns: 784 entries, pixel0 to pixel783\n",
      "dtypes: int64(784)\n",
      "memory usage: 167.5 MB\n"
     ]
    },
    {
     "data": {
      "text/plain": [
       "(None, None)"
      ]
     },
     "execution_count": 4,
     "metadata": {},
     "output_type": "execute_result"
    }
   ],
   "source": [
    "train.info(), test.info()"
   ]
  },
  {
   "cell_type": "code",
   "execution_count": 5,
   "metadata": {},
   "outputs": [],
   "source": [
    "# split label and feature data\n",
    "train_labels = (train['label'])\n",
    "train_features = (train.iloc[:, 1:].values).astype('float32')\n",
    "test_features = (test.values).astype('int32')"
   ]
  },
  {
   "cell_type": "code",
   "execution_count": 6,
   "metadata": {},
   "outputs": [
    {
     "data": {
      "text/plain": [
       "((42000, 28, 28, 1), (28000, 28, 28, 1), (42000,))"
      ]
     },
     "execution_count": 6,
     "metadata": {},
     "output_type": "execute_result"
    }
   ],
   "source": [
    "# reshape into pixel dimensions and 1 column for gray scale\n",
    "train_features = train_features.reshape(train_features.shape[0], 28, 28, 1)\n",
    "test_features = test_features.reshape(test_features.shape[0], 28, 28, 1)\n",
    "train_features.shape, test_features.shape, train_labels.shape"
   ]
  },
  {
   "cell_type": "code",
   "execution_count": 7,
   "metadata": {},
   "outputs": [],
   "source": [
    "# display sample digits \n",
    "for i in range(16, 7):\n",
    "    plt.subplot(330 + (i+1))\n",
    "    plt.imshow(train_features[i], cmap=plt.get_cmap('gray'))\n",
    "    plt.title(train_labels[i]);\n",
    "\n",
    "plt.show()"
   ]
  },
  {
   "cell_type": "code",
   "execution_count": 8,
   "metadata": {},
   "outputs": [
    {
     "data": {
      "image/png": "[encoded data removed]",
      "text/plain": [
       "<Figure size 432x288 with 1 Axes>"
      ]
     },
     "metadata": {
      "needs_background": "light"
     },
     "output_type": "display_data"
    }
   ],
   "source": [
    "g = sns.countplot(train_labels)"
   ]
  },
  {
   "cell_type": "code",
   "execution_count": 9,
   "metadata": {},
   "outputs": [],
   "source": [
    "# normalisation of the data so its between 0 and 1\n",
    "train_features = train_features.astype('float32')/255.\n",
    "test_features = test_features.astype('float32')/255."
   ]
  },
  {
   "cell_type": "code",
   "execution_count": 10,
   "metadata": {},
   "outputs": [],
   "source": [
    "# convert the target labels to categorical \n",
    "train_labels = to_categorical(train_labels)\n",
    "train_features.shape, train_labels.shape"
   ]
  },
  {
   "cell_type": "code",
   "execution_count": 12,
   "metadata": {},
   "outputs": [
    {
     "data": {
      "text/plain": [
       "((37800, 28, 28, 1), (4200, 28, 28, 1), (37800, 10), (4200, 10))"
      ]
     },
     "execution_count": 12,
     "metadata": {},
     "output_type": "execute_result"
    }
   ],
   "source": [
    "X_train, X_val, y_train, y_val = train_test_split(train_features, train_labels, test_size=0.10, random_state=42)\n",
    "X_train.shape, X_val.shape, y_train.shape, y_val.shape"
   ]
  },
  {
   "cell_type": "code",
   "execution_count": 66,
   "metadata": {},
   "outputs": [],
   "source": [
    "# setup the basic CNN\n",
    "model = Sequential()\n",
    "model.add(layers.Conv2D(32, kernel_size=(3, 3), \n",
    "                    activation='relu', \n",
    "                    input_shape=(28, 28, 1)))\n",
    "model.add(layers.Conv2D(32, (3, 3), activation='relu'))\n",
    "model.add(layers.MaxPooling2D((2, 2)))\n",
    "model.add(layers.Dropout(0.25))\n",
    "model.add(layers.Conv2D(64, (3, 3), activation='relu'))\n",
    "model.add(layers.MaxPooling2D((2, 2)))\n",
    "model.add(layers.Flatten())\n",
    "model.add(layers.Dense(512, activation='relu'))\n",
    "model.add(layers.Dropout(0.5))\n",
    "model.add(layers.Dense(10, activation='softmax'))"
   ]
  },
  {
   "cell_type": "code",
   "execution_count": 67,
   "metadata": {},
   "outputs": [],
   "source": [
    "model.compile(loss='categorical_crossentropy', optimizer = Adam(lr=1e-4),metrics=['accuracy'])"
   ]
  },
  {
   "cell_type": "code",
   "execution_count": 68,
   "metadata": {},
   "outputs": [
    {
     "name": "stdout",
     "output_type": "stream",
     "text": [
      "Model: \"sequential_1\"\n",
      "_________________________________________________________________\n",
      "Layer (type)                 Output Shape              Param #   \n",
      "=================================================================\n",
      "conv2d_3 (Conv2D)            (None, 26, 26, 32)        320       \n",
      "_________________________________________________________________\n",
      "conv2d_4 (Conv2D)            (None, 24, 24, 32)        9248      \n",
      "_________________________________________________________________\n",
      "max_pooling2d_2 (MaxPooling2 (None, 12, 12, 32)        0         \n",
      "_________________________________________________________________\n",
      "dropout_2 (Dropout)          (None, 12, 12, 32)        0         \n",
      "_________________________________________________________________\n",
      "conv2d_5 (Conv2D)            (None, 10, 10, 64)        18496     \n",
      "_________________________________________________________________\n",
      "max_pooling2d_3 (MaxPooling2 (None, 5, 5, 64)          0         \n",
      "_________________________________________________________________\n",
      "flatten_1 (Flatten)          (None, 1600)              0         \n",
      "_________________________________________________________________\n",
      "dense_2 (Dense)              (None, 512)               819712    \n",
      "_________________________________________________________________\n",
      "dropout_3 (Dropout)          (None, 512)               0         \n",
      "_________________________________________________________________\n",
      "dense_3 (Dense)              (None, 10)                5130      \n",
      "=================================================================\n",
      "Total params: 852,906\n",
      "Trainable params: 852,906\n",
      "Non-trainable params: 0\n",
      "_________________________________________________________________\n"
     ]
    }
   ],
   "source": [
    "model.summary()"
   ]
  },
  {
   "cell_type": "code",
   "execution_count": 91,
   "metadata": {},
   "outputs": [],
   "source": [
    "# Model Parameters\n",
    "batchsize = 128\n",
    "num_classes = 10\n",
    "epochs = 20"
   ]
  },
  {
   "cell_type": "code",
   "execution_count": 78,
   "metadata": {},
   "outputs": [
    {
     "name": "stdout",
     "output_type": "stream",
     "text": [
      "Train on 37800 samples, validate on 4200 samples\n",
      "Epoch 1/20\n",
      "37800/37800 [==============================] - 32s 840us/sample - loss: 0.0421 - acc: 0.9872 - val_loss: 0.0368 - val_acc: 0.9888\n",
      "Epoch 2/20\n",
      "37800/37800 [==============================] - 31s 825us/sample - loss: 0.0407 - acc: 0.9870 - val_loss: 0.0365 - val_acc: 0.9881\n",
      "Epoch 3/20\n",
      "37800/37800 [==============================] - 32s 840us/sample - loss: 0.0381 - acc: 0.9881 - val_loss: 0.0374 - val_acc: 0.9883\n",
      "Epoch 4/20\n",
      "37800/37800 [==============================] - 37s 968us/sample - loss: 0.0356 - acc: 0.9891 - val_loss: 0.0364 - val_acc: 0.9881\n",
      "Epoch 5/20\n",
      "37800/37800 [==============================] - 36s 948us/sample - loss: 0.0332 - acc: 0.9891 - val_loss: 0.0327 - val_acc: 0.9890\n",
      "Epoch 6/20\n",
      "37800/37800 [==============================] - 35s 922us/sample - loss: 0.0324 - acc: 0.9892 - val_loss: 0.0313 - val_acc: 0.9900\n",
      "Epoch 7/20\n",
      "37800/37800 [==============================] - 38s 1ms/sample - loss: 0.0297 - acc: 0.9907 - val_loss: 0.0331 - val_acc: 0.9902\n",
      "Epoch 8/20\n",
      "37800/37800 [==============================] - 40s 1ms/sample - loss: 0.0291 - acc: 0.9906 - val_loss: 0.0319 - val_acc: 0.9890\n",
      "Epoch 9/20\n",
      "37800/37800 [==============================] - 37s 986us/sample - loss: 0.0266 - acc: 0.9918 - val_loss: 0.0303 - val_acc: 0.9907\n",
      "Epoch 10/20\n",
      "37800/37800 [==============================] - 36s 948us/sample - loss: 0.0251 - acc: 0.9920 - val_loss: 0.0290 - val_acc: 0.9902\n",
      "Epoch 11/20\n",
      "37800/37800 [==============================] - 34s 912us/sample - loss: 0.0250 - acc: 0.9922 - val_loss: 0.0325 - val_acc: 0.9888\n",
      "Epoch 12/20\n",
      "37800/37800 [==============================] - 33s 876us/sample - loss: 0.0253 - acc: 0.9917 - val_loss: 0.0289 - val_acc: 0.9924\n",
      "Epoch 13/20\n",
      "37800/37800 [==============================] - 31s 813us/sample - loss: 0.0233 - acc: 0.9921 - val_loss: 0.0276 - val_acc: 0.9919\n",
      "Epoch 14/20\n",
      "37800/37800 [==============================] - 31s 833us/sample - loss: 0.0206 - acc: 0.9937 - val_loss: 0.0318 - val_acc: 0.9890\n",
      "Epoch 15/20\n",
      "37800/37800 [==============================] - 32s 856us/sample - loss: 0.0206 - acc: 0.9933 - val_loss: 0.0302 - val_acc: 0.9898\n",
      "Epoch 16/20\n",
      "37800/37800 [==============================] - 33s 875us/sample - loss: 0.0192 - acc: 0.9938 - val_loss: 0.0305 - val_acc: 0.9914\n",
      "Epoch 17/20\n",
      "37800/37800 [==============================] - 32s 858us/sample - loss: 0.0184 - acc: 0.9939 - val_loss: 0.0284 - val_acc: 0.9917\n",
      "Epoch 18/20\n",
      "37800/37800 [==============================] - 36s 961us/sample - loss: 0.0187 - acc: 0.9937 - val_loss: 0.0301 - val_acc: 0.9914\n",
      "Epoch 19/20\n",
      "37800/37800 [==============================] - 37s 969us/sample - loss: 0.0168 - acc: 0.9947 - val_loss: 0.0306 - val_acc: 0.9907\n",
      "Epoch 20/20\n",
      "37800/37800 [==============================] - 32s 854us/sample - loss: 0.0142 - acc: 0.9955 - val_loss: 0.0296 - val_acc: 0.9914\n"
     ]
    }
   ],
   "source": [
    "# fit the model \n",
    "history = model.fit(X_train, y_train,\n",
    "              batch_size=batchsize,\n",
    "              epochs=epochs,\n",
    "              verbose=1,\n",
    "              validation_data=(X_val, y_val))"
   ]
  },
  {
   "cell_type": "code",
   "execution_count": 79,
   "metadata": {},
   "outputs": [
    {
     "name": "stdout",
     "output_type": "stream",
     "text": [
      "Training Accuracy: 0.9989\n",
      "Testing Accuracy:  0.9914\n"
     ]
    }
   ],
   "source": [
    "loss, accuracy = model.evaluate(X_train, y_train, verbose=False)\n",
    "print(\"Training Accuracy: {:.4f}\".format(accuracy))\n",
    "loss, accuracy = model.evaluate(X_val, y_val, verbose=False)\n",
    "print(\"Testing Accuracy:  {:.4f}\".format(accuracy))\n",
    "history_dict = history.history"
   ]
  },
  {
   "cell_type": "code",
   "execution_count": 81,
   "metadata": {},
   "outputs": [
    {
     "data": {
      "image/png": "[encoded data removed]",
      "text/plain": [
       "<Figure size 432x288 with 1 Axes>"
      ]
     },
     "metadata": {
      "needs_background": "light"
     },
     "output_type": "display_data"
    }
   ],
   "source": [
    "# Plot Loss\n",
    "loss = history_dict['loss']\n",
    "val_loss = history_dict['val_loss']\n",
    "\n",
    "epochs = range(1, len(acc) + 1)\n",
    "plt.plot(epochs, loss, 'bo', label='Training loss')\n",
    "plt.plot(epochs, val_loss, 'b', label='Validation loss')\n",
    "plt.title('Training and validation loss')\n",
    "plt.xlabel('Epochs')\n",
    "plt.ylabel('Loss')\n",
    "plt.legend()\n",
    "\n",
    "plt.show()"
   ]
  },
  {
   "cell_type": "code",
   "execution_count": 82,
   "metadata": {},
   "outputs": [
    {
     "data": {
      "image/png": "[encoded data removed]",
      "text/plain": [
       "<Figure size 432x288 with 1 Axes>"
      ]
     },
     "metadata": {
      "needs_background": "light"
     },
     "output_type": "display_data"
    }
   ],
   "source": [
    "# Plot Accuracy\n",
    "acc = history_dict['acc']\n",
    "val_acc = history_dict['val_acc']\n",
    "\n",
    "plt.clf() \n",
    "plt.plot(epochs, acc, 'bo', label='Training acc')\n",
    "plt.plot(epochs, val_acc, 'b', label='Validation acc')\n",
    "plt.title('Training and validation accuracy')\n",
    "plt.xlabel('Epochs')\n",
    "plt.ylabel('Accuracy')\n",
    "plt.legend()\n",
    "\n",
    "plt.show()"
   ]
  },
  {
   "cell_type": "code",
   "execution_count": null,
   "metadata": {},
   "outputs": [],
   "source": []
  },
  {
   "cell_type": "markdown",
   "metadata": {},
   "source": [
    "# If Model Validates then retrain on whole training set"
   ]
  },
  {
   "cell_type": "code",
   "execution_count": 89,
   "metadata": {},
   "outputs": [
    {
     "data": {
      "text/plain": [
       "((42000, 28, 28, 1), (42000, 10))"
      ]
     },
     "execution_count": 89,
     "metadata": {},
     "output_type": "execute_result"
    }
   ],
   "source": [
    "train_features.shape, train_labels.shape"
   ]
  },
  {
   "cell_type": "code",
   "execution_count": 92,
   "metadata": {},
   "outputs": [
    {
     "name": "stdout",
     "output_type": "stream",
     "text": [
      "Epoch 1/20\n",
      "42000/42000 [==============================] - 38s 893us/sample - loss: 0.0180 - acc: 0.9940\n",
      "Epoch 2/20\n",
      "42000/42000 [==============================] - 38s 909us/sample - loss: 0.0171 - acc: 0.9944\n",
      "Epoch 3/20\n",
      "42000/42000 [==============================] - 38s 906us/sample - loss: 0.0160 - acc: 0.9944\n",
      "Epoch 4/20\n",
      "42000/42000 [==============================] - 38s 893us/sample - loss: 0.0156 - acc: 0.9948\n",
      "Epoch 5/20\n",
      "42000/42000 [==============================] - 37s 886us/sample - loss: 0.0145 - acc: 0.9956\n",
      "Epoch 6/20\n",
      "42000/42000 [==============================] - 37s 875us/sample - loss: 0.0150 - acc: 0.9951\n",
      "Epoch 7/20\n",
      "42000/42000 [==============================] - 36s 863us/sample - loss: 0.0131 - acc: 0.9958\n",
      "Epoch 8/20\n",
      "42000/42000 [==============================] - 37s 886us/sample - loss: 0.0111 - acc: 0.9961\n",
      "Epoch 9/20\n",
      "42000/42000 [==============================] - 37s 890us/sample - loss: 0.0118 - acc: 0.9961\n",
      "Epoch 10/20\n",
      "42000/42000 [==============================] - 40s 946us/sample - loss: 0.0118 - acc: 0.9960\n",
      "Epoch 11/20\n",
      "42000/42000 [==============================] - 37s 883us/sample - loss: 0.0116 - acc: 0.9961\n",
      "Epoch 12/20\n",
      "42000/42000 [==============================] - 37s 884us/sample - loss: 0.0107 - acc: 0.9964\n",
      "Epoch 13/20\n",
      "42000/42000 [==============================] - 37s 888us/sample - loss: 0.0107 - acc: 0.9963\n",
      "Epoch 14/20\n",
      "42000/42000 [==============================] - 37s 889us/sample - loss: 0.0096 - acc: 0.9967\n",
      "Epoch 15/20\n",
      "42000/42000 [==============================] - 37s 878us/sample - loss: 0.0101 - acc: 0.9965\n",
      "Epoch 16/20\n",
      "42000/42000 [==============================] - 33s 793us/sample - loss: 0.0083 - acc: 0.9973\n",
      "Epoch 17/20\n",
      "42000/42000 [==============================] - 36s 868us/sample - loss: 0.0091 - acc: 0.9968\n",
      "Epoch 18/20\n",
      "42000/42000 [==============================] - 37s 877us/sample - loss: 0.0092 - acc: 0.9969\n",
      "Epoch 19/20\n",
      "42000/42000 [==============================] - 33s 794us/sample - loss: 0.0083 - acc: 0.9976\n",
      "Epoch 20/20\n",
      "42000/42000 [==============================] - 33s 785us/sample - loss: 0.0075 - acc: 0.9975\n"
     ]
    }
   ],
   "source": [
    "# Re-train on the full data set before submitting \n",
    "history_final = model.fit(train_features, train_labels,\n",
    "                        batch_size=batchsize,\n",
    "                        verbose=1,\n",
    "                        epochs=epochs)"
   ]
  },
  {
   "cell_type": "code",
   "execution_count": 93,
   "metadata": {},
   "outputs": [
    {
     "name": "stdout",
     "output_type": "stream",
     "text": [
      "Final Training Accuracy: 0.9997\n"
     ]
    }
   ],
   "source": [
    "loss, accuracy = model.evaluate(train_features, train_labels, verbose=False)\n",
    "print(\"Final Training Accuracy: {:.4f}\".format(accuracy))"
   ]
  },
  {
   "cell_type": "code",
   "execution_count": 94,
   "metadata": {},
   "outputs": [
    {
     "data": {
      "image/png": "[encoded data removed]",
      "text/plain": [
       "<Figure size 432x288 with 1 Axes>"
      ]
     },
     "metadata": {
      "needs_background": "light"
     },
     "output_type": "display_data"
    }
   ],
   "source": [
    "acc = history_dict['acc']\n",
    "loss = history_dict['loss']\n",
    "epochs = range(1, len(acc) + 1)\n",
    "plt.plot(epochs, loss, 'bo', label='Final Training loss')\n",
    "plt.title('Final Training loss')\n",
    "plt.xlabel('Epochs')\n",
    "plt.ylabel('Loss')\n",
    "plt.legend()\n",
    "plt.show()"
   ]
  },
  {
   "cell_type": "code",
   "execution_count": 95,
   "metadata": {},
   "outputs": [
    {
     "data": {
      "image/png": "[encoded data removed]",
      "text/plain": [
       "<Figure size 432x288 with 1 Axes>"
      ]
     },
     "metadata": {
      "needs_background": "light"
     },
     "output_type": "display_data"
    }
   ],
   "source": [
    "plt.clf()   # clear figure\n",
    "plt.plot(epochs, acc, 'bo', label='Final Training acc')\n",
    "plt.title('Final Training accuracy')\n",
    "plt.xlabel('Epochs')\n",
    "plt.ylabel('Accuracy')\n",
    "plt.legend()\n",
    "plt.show()"
   ]
  },
  {
   "cell_type": "code",
   "execution_count": 96,
   "metadata": {},
   "outputs": [
    {
     "name": "stdout",
     "output_type": "stream",
     "text": [
      "28000/28000 [==============================] - 4s 159us/sample\n",
      "[[1.5751845e-15 1.0404153e-14 1.0000000e+00 ... 3.1507960e-12\n",
      "  1.3701733e-12 1.5383484e-16]\n",
      " [9.9999988e-01 4.6013406e-12 2.2985891e-09 ... 1.2667306e-10\n",
      "  5.4767579e-12 1.0433112e-09]\n",
      " [1.4676748e-12 2.5480285e-10 4.1923482e-08 ... 3.1690142e-08\n",
      "  5.4820239e-06 9.9998987e-01]\n",
      " ...\n",
      " [6.7867966e-28 6.9509538e-19 7.4992657e-22 ... 1.6429740e-18\n",
      "  1.3820466e-17 1.6451456e-16]\n",
      " [5.7999769e-13 4.8436988e-12 2.4381663e-13 ... 5.1771604e-08\n",
      "  8.1955123e-11 9.9999464e-01]\n",
      " [7.4340510e-19 9.2469401e-15 1.0000000e+00 ... 1.1198706e-14\n",
      "  1.3496526e-10 2.0458397e-16]]\n"
     ]
    }
   ],
   "source": [
    "predict=model.predict(test_features, verbose=1)\n",
    "print(predict)"
   ]
  },
  {
   "cell_type": "code",
   "execution_count": 100,
   "metadata": {},
   "outputs": [
    {
     "name": "stdout",
     "output_type": "stream",
     "text": [
      "[2 0 9 ... 3 9 2]\n"
     ]
    }
   ],
   "source": [
    "result = np.argmax(predict,axis=1)\n",
    "print(result)"
   ]
  },
  {
   "cell_type": "code",
   "execution_count": 101,
   "metadata": {},
   "outputs": [],
   "source": [
    "result=pd.DataFrame({'ImageId': list(range(1,len(predict)+1)),\n",
    "                         'Label': result})"
   ]
  },
  {
   "cell_type": "code",
   "execution_count": 103,
   "metadata": {},
   "outputs": [],
   "source": [
    "result.to_csv('DSKsubmission.csv', index=False)"
   ]
  },
  {
   "cell_type": "code",
   "execution_count": null,
   "metadata": {},
   "outputs": [],
   "source": [
    "sub"
   ]
  },
  {
   "cell_type": "code",
   "execution_count": null,
   "metadata": {},
   "outputs": [],
   "source": []
  }
 ],
 "metadata": {
  "kernelspec": {
   "display_name": "Python 3",
   "language": "python",
   "name": "python3"
  },
  "language_info": {
   "codemirror_mode": {
    "name": "ipython",
    "version": 3
   },
   "file_extension": ".py",
   "mimetype": "text/x-python",
   "name": "python",
   "nbconvert_exporter": "python",
   "pygments_lexer": "ipython3",
   "version": "3.7.4"
  }
 },
 "nbformat": 4,
 "nbformat_minor": 4
}
